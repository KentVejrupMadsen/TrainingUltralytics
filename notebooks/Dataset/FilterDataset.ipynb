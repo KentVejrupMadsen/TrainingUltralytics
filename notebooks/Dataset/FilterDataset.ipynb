{
 "cells": [
  {
   "cell_type": "code",
   "execution_count": null,
   "id": "58d56d21",
   "metadata": {},
   "outputs": [],
   "source": [
    "%pip install pillow"
   ]
  },
  {
   "cell_type": "code",
   "execution_count": null,
   "id": "2cb784ce",
   "metadata": {},
   "outputs": [],
   "source": [
    "from os \\\n",
    "    import listdir\n",
    "\n",
    "from os.path \\\n",
    "    import (\n",
    "        isdir, \n",
    "        isfile, \n",
    "        join\n",
    ")"
   ]
  },
  {
   "cell_type": "code",
   "execution_count": null,
   "id": "19ab4635",
   "metadata": {},
   "outputs": [],
   "source": [
    "LOCATION_OF_IMAGES_TO_FILTER: str = '/mnt/c/Users/Kentv/Desktop/Filter'\n",
    "NUMBER_OF_IMAGES_TO_REMAIN: int = 5000\n",
    "NUMBER_OF_FILES: int = 0"
   ]
  },
  {
   "cell_type": "code",
   "execution_count": null,
   "id": "56b3e61a",
   "metadata": {},
   "outputs": [],
   "source": [
    "found_files = listdir(LOCATION_OF_IMAGES_TO_FILTER)\n",
    "NUMBER_OF_FILES = len(found_files)\n",
    "\n",
    "for idx in range(NUMBER_OF_FILES):\n",
    "    found_files[idx] = join(\n",
    "        LOCATION_OF_IMAGES_TO_FILTER, \n",
    "        found_files[idx]\n",
    "    )"
   ]
  },
  {
   "cell_type": "code",
   "execution_count": null,
   "id": "55cb918b",
   "metadata": {},
   "outputs": [],
   "source": [
    "from os import remove\n",
    "from random import SystemRandom\n",
    "\n",
    "generator = SystemRandom()\n",
    "\n",
    "for index in range(\n",
    "    int(\n",
    "        NUMBER_OF_FILES \n",
    "        - \n",
    "        NUMBER_OF_IMAGES_TO_REMAIN\n",
    "    )\n",
    "):\n",
    "    chosen_random_index_position: int = generator.randint(\n",
    "        0, \n",
    "        NUMBER_OF_FILES - 1\n",
    "    )\n",
    "    \n",
    "    remove(found_files[chosen_random_index_position])    \n",
    "\n",
    "    found_files.pop(\n",
    "        chosen_random_index_position\n",
    "    )\n",
    "\n",
    "    NUMBER_OF_FILES = NUMBER_OF_FILES - 1\n",
    "\n"
   ]
  }
 ],
 "metadata": {
  "kernelspec": {
   "display_name": "Python 3 (ipykernel)",
   "language": "python",
   "name": "python3"
  },
  "language_info": {
   "codemirror_mode": {
    "name": "ipython",
    "version": 3
   },
   "file_extension": ".py",
   "mimetype": "text/x-python",
   "name": "python",
   "nbconvert_exporter": "python",
   "pygments_lexer": "ipython3",
   "version": "3.12.8"
  }
 },
 "nbformat": 4,
 "nbformat_minor": 5
}
