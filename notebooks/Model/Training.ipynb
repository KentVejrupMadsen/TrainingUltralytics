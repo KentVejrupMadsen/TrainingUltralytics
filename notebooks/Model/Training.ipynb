{
 "cells": [
  {
   "cell_type": "code",
   "execution_count": null,
   "id": "d455153e",
   "metadata": {},
   "outputs": [],
   "source": [
    "%pip install wandb\n",
    "%pip install ultralytics\n",
    "%pip install matplotlib\n",
    "%pip install numpy\n",
    "%pip install opencv-python\n",
    "%pip install inference"
   ]
  },
  {
   "cell_type": "code",
   "execution_count": null,
   "id": "ab776ed1",
   "metadata": {},
   "outputs": [],
   "source": [
    "ZERO: int = 0\n",
    "ONE: int = 1\n",
    "\n",
    "ITERATION: int  = 1\n",
    "IOU: int        = 80\n",
    "EPOCH: int      = 101\n",
    "BATCHES: int    = 9"
   ]
  },
  {
   "cell_type": "code",
   "execution_count": null,
   "id": "50c7bf74",
   "metadata": {},
   "outputs": [],
   "source": [
    "def calculateIOU() -> float:\n",
    "    global IOU\n",
    "\n",
    "    return float(\n",
    "        IOU\n",
    "        /\n",
    "        100\n",
    "    )"
   ]
  },
  {
   "cell_type": "code",
   "execution_count": null,
   "id": "87e50c39",
   "metadata": {},
   "outputs": [],
   "source": [
    "from ultralytics    \\\n",
    "    import YOLO\n",
    "\n",
    "from math           \\\n",
    "    import (\n",
    "        floor\n",
    ")\n",
    "\n",
    "from random         \\\n",
    "    import (\n",
    "        SystemRandom\n",
    ")\n",
    "\n",
    "from os.path        \\\n",
    "    import (\n",
    "        join\n",
    ")\n",
    "\n",
    "from os \\\n",
    "    import environ\n",
    "\n",
    "from logging import ( \n",
    "    getLogger, \n",
    "    ERROR\n",
    ")\n",
    "\n",
    "from wandb import (\n",
    "    init, \n",
    "    finish\n",
    ")\n",
    "\n",
    "from wandb.integration.ultralytics \\\n",
    "    import (\n",
    "        add_wandb_callback\n",
    ")"
   ]
  },
  {
   "cell_type": "code",
   "execution_count": null,
   "id": "7a9bc9d5",
   "metadata": {},
   "outputs": [],
   "source": [
    "environ['WANDB_DIR'] = '~/wandb'\n",
    "\n",
    "environ['WANDB_CONSOLE']       = 'off'\n",
    "environ['WANDB_DISABLE_CODE']  = 'off'\n",
    "environ['WANDB_NOTEBOOK_NAME'] = 'TrainingOfModel.ipynb'\n",
    "environ['WANDB_ENTITY']        = 'Designermadsen'\n",
    "environ['WANDB_SILENT']        = 'True'\n",
    "\n",
    "\n",
    "environ['YOLO_MODEL_ITERATION'] = str(\n",
    "    ITERATION\n",
    ")\n",
    "\n",
    "environ['YOLO_WEIGHT_MODEL_VERSION'] = \\\n",
    "    str(\n",
    "        '/mnt/c/Users/Kentv/Desktop/Spectre/runs/detect/train4/weights/best.pt'\n",
    ")\n",
    "\n",
    "environ['YOLO_MODEL_VERSION']        = \\\n",
    "    'yolo11m.pt'\n",
    "\n",
    "\n",
    "\n",
    "environ['TRAINING_EPOCH'] = str(\n",
    "    EPOCH\n",
    ")\n",
    "\n",
    "environ['TRAINING_BATCHES'] = str(\n",
    "    BATCHES\n",
    ")\n",
    "\n",
    "environ['TRAINING_PATIENCE'] = str(\n",
    "    0\n",
    ")\n",
    "\n",
    "environ['TRAINING_WORKERS'] = str(\n",
    "    20\n",
    ")"
   ]
  },
  {
   "cell_type": "code",
   "execution_count": null,
   "id": "fa87a1d5",
   "metadata": {},
   "outputs": [],
   "source": [
    "def get_weight_location() -> str:\n",
    "    global MODEL_WEIGHT_LOCATION\n",
    "    return MODEL_WEIGHT_LOCATION\n",
    "\n",
    "def set_weight_location(\n",
    "    value: str\n",
    ") -> None:\n",
    "    global MODEL_WEIGHT_LOCATION\n",
    "    MODEL_WEIGHT_LOCATION = value\n",
    "\n",
    "def get_current_model_iteration() -> int:\n",
    "    global MODEL_ITERATION_VERSION\n",
    "    return MODEL_ITERATION_VERSION\n",
    "\n",
    "def set_current_model_iteration(\n",
    "    value: int\n",
    ") -> None:\n",
    "    global MODEL_ITERATION_VERSION\n",
    "    MODEL_ITERATION_VERSION = value\n",
    "\n",
    "def increment_of_model() -> None:\n",
    "    global ONE\n",
    "\n",
    "    set_current_model_iteration(\n",
    "        get_current_model_iteration() + ONE\n",
    "    )\n",
    "\n",
    "def generate_weight_location() -> str:\n",
    "    weight_path = join(\n",
    "        str(\n",
    "            './runs/detect/train' \n",
    "        )        \n",
    "        + \n",
    "        str(\n",
    "            get_current_model_iteration()\n",
    "        ),\n",
    "        'weights/best.pt'\n",
    "    )\n",
    "\n",
    "    set_weight_location(\n",
    "        weight_path\n",
    "    )\n",
    "\n",
    "    return get_weight_location()\n",
    "\n",
    "def getSeed() -> int:\n",
    "    global SEED\n",
    "    \n",
    "    if isSeedNone():\n",
    "        return generateSeed()\n",
    "\n",
    "    return SEED\n",
    "\n",
    "def setSeed(\n",
    "    value: int\n",
    ") -> None:\n",
    "    global SEED\n",
    "    SEED = value\n",
    "\n",
    "\n",
    "def generateGenerator() -> None:\n",
    "    global generator\n",
    "\n",
    "    if generator is None:\n",
    "        generator = SystemRandom()\n",
    "\n",
    "def isSeedNone() -> bool:\n",
    "    global SEED\n",
    "    return SEED is None\n",
    "\n",
    "def maximumSizeForInteger() -> int:\n",
    "    return 2147483647\n",
    "\n",
    "def generateSeed() -> None:\n",
    "    global          \\\n",
    "        SEED,       \\\n",
    "        generator,  \\\n",
    "        ZERO\n",
    "    \n",
    "    generateGenerator()\n",
    "\n",
    "    setSeed(\n",
    "        generator.randint(\n",
    "            ZERO, \n",
    "            maximumSizeForInteger()\n",
    "        )\n",
    "    )\n",
    "\n",
    "    return SEED\n",
    "\n",
    "def getModel():\n",
    "    global model\n",
    "    return model\n",
    "\n",
    "def setModel(\n",
    "    value\n",
    "):\n",
    "    global model\n",
    "    model = value\n",
    "\n",
    "def modelLoadWeights() -> None:\n",
    "    global MODEL_WEIGHT_LOCATION\n",
    "\n",
    "    if not (\n",
    "        MODEL_WEIGHT_LOCATION is None\n",
    "    ):\n",
    "        getModel().load(\n",
    "            get_weight_location()\n",
    "        )\n",
    "\n",
    "def initializeLogging() -> None:\n",
    "    logger = getLogger(\n",
    "        __name__\n",
    "    )\n",
    "\n",
    "    logger.setLevel(\n",
    "        ERROR\n",
    "    )"
   ]
  },
  {
   "cell_type": "code",
   "execution_count": null,
   "id": "dbc9ce59",
   "metadata": {},
   "outputs": [],
   "source": [
    "generator   = None\n",
    "model       = None\n",
    "logger      = None\n",
    "model       = None\n",
    "\n",
    "NUMBER_OF_TIMES_TO_ITERATE_TRAINING: int = ONE\n",
    "\n",
    "MODEL_ITERATION_VERSION: int = int(\n",
    "    environ['YOLO_MODEL_ITERATION']\n",
    ")\n",
    "\n",
    "FIRST_MODEL_TO_LOAD: str = environ['YOLO_WEIGHT_MODEL_VERSION']\n",
    "\n",
    "FINISH_WHEN_DONE: bool = True\n",
    "\n",
    "EPOCHS: int     = int(\n",
    "    environ['TRAINING_EPOCH']\n",
    ")\n",
    "\n",
    "BATCH: int      = int(\n",
    "    environ['TRAINING_BATCHES']\n",
    ")\n",
    "\n",
    "PATIENCE: int   = int(\n",
    "    environ['TRAINING_PATIENCE']\n",
    ")\n",
    "\n",
    "\n",
    "IMAGE_WIDTH_SIZE: int = 640\n",
    "IMAGE_HEIGHT_SIZE: int = 640\n",
    "\n",
    "IMAGE_DIMENSIONS: tuple = (\n",
    "    IMAGE_HEIGHT_SIZE, \n",
    "    IMAGE_WIDTH_SIZE\n",
    ")\n",
    "\n",
    "SEED = None\n",
    "\n",
    "IS_TO_RESUME: bool = False\n",
    "\n",
    "#\n",
    "MOSAIC_END_AT: int = -ONE\n",
    "\n",
    "PROJECT_NAME: str = 'spectre'\n",
    "\n",
    "HOME_LOCATION: str = '/home/ai'\n",
    "\n",
    "DATASET_LOCATION: str = join(\n",
    "    HOME_LOCATION,\n",
    "    'dataset.yaml'\n",
    ")\n",
    "\n",
    "MODEL_WEIGHT_LOCATION: str | None = None\n",
    "\n",
    "#\n",
    "DEVICES_TO_USE: list = [\n",
    "    ZERO\n",
    "]"
   ]
  },
  {
   "cell_type": "code",
   "execution_count": null,
   "id": "5fbe0738",
   "metadata": {},
   "outputs": [],
   "source": [
    "def getTrainingWorkers() -> int:\n",
    "    return int(\n",
    "        environ['TRAINING_WORKERS']\n",
    "    )"
   ]
  },
  {
   "cell_type": "code",
   "execution_count": null,
   "id": "30209fec",
   "metadata": {},
   "outputs": [],
   "source": [
    "initializeLogging()\n",
    "\n",
    "init(\n",
    "    project     = PROJECT_NAME, \n",
    "    job_type    = 'training',\n",
    "    save_code   = False\n",
    ")\n",
    "\n",
    "setModel(\n",
    "    YOLO(\n",
    "        FIRST_MODEL_TO_LOAD,\n",
    "        verbose = False\n",
    "    )\n",
    ")\n",
    "\n",
    "add_wandb_callback(\n",
    "    model,\n",
    "    enable_train_validation_logging     = False,\n",
    "    enable_validation_logging           = False,\n",
    "    enable_prediction_logging           = False,\n",
    "    enable_model_checkpointing          = False\n",
    ")\n"
   ]
  },
  {
   "cell_type": "code",
   "execution_count": 12,
   "id": "7d4937bf",
   "metadata": {},
   "outputs": [
    {
     "name": "stdout",
     "output_type": "stream",
     "text": [
      "New https://pypi.org/project/ultralytics/8.3.76 available 😃 Update with 'pip install -U ultralytics'\n",
      "Ultralytics 8.3.72 🚀 Python-3.12.8 torch-2.5.1 CUDA:0 (NVIDIA GeForce RTX 4050 Laptop GPU, 6140MiB)\n",
      "\u001b[34m\u001b[1mengine/trainer: \u001b[0mtask=detect, mode=train, model=/mnt/c/Users/Kentv/Desktop/Spectre/runs/detect/train2/weights/best.pt, data=/home/ai/dataset.yaml, epochs=11, time=None, patience=0, batch=9, imgsz=(640, 640), save=True, save_period=-1, cache=False, device=[0], workers=20, project=None, name=train4, exist_ok=False, pretrained=True, optimizer=auto, verbose=False, seed=1898684213, deterministic=True, single_cls=False, rect=False, cos_lr=True, close_mosaic=-1, resume=False, amp=True, fraction=1.0, profile=False, freeze=None, multi_scale=False, overlap_mask=True, mask_ratio=4, dropout=0.075, val=True, split=val, save_json=False, save_hybrid=False, conf=0.001, iou=0.8, max_det=300, half=False, dnn=False, plots=True, source=None, vid_stride=1, stream_buffer=True, visualize=False, augment=False, agnostic_nms=False, classes=None, retina_masks=False, embed=None, show=False, save_frames=False, save_txt=False, save_conf=False, save_crop=False, show_labels=True, show_conf=True, show_boxes=True, line_width=None, format=torchscript, keras=False, optimize=False, int8=False, dynamic=False, simplify=True, opset=None, workspace=None, nms=False, lr0=0.01, lrf=0.01, momentum=0.95, weight_decay=0.001, warmup_epochs=3.0, warmup_momentum=0.8, warmup_bias_lr=0.1, box=3.0, cls=0.5, dfl=1.5, pose=12.0, kobj=1.0, nbs=64, hsv_h=0.15, hsv_s=0.15, hsv_v=0.15, degrees=0.0, translate=0.05, scale=0.05, shear=0.0, perspective=0.0, flipud=0.0, fliplr=0.5, bgr=0.05, mosaic=0.4, mixup=0.4, copy_paste=0.0, copy_paste_mode=flip, auto_augment=randaugment, erasing=0.4, crop_fraction=1.0, cfg=None, tracker=botsort.yaml, save_dir=runs/detect/train4\n",
      "\n",
      "                   from  n    params  module                                       arguments                     \n",
      "  0                  -1  1      1856  ultralytics.nn.modules.conv.Conv             [3, 64, 3, 2]                 \n",
      "  1                  -1  1     73984  ultralytics.nn.modules.conv.Conv             [64, 128, 3, 2]               \n",
      "  2                  -1  1    111872  ultralytics.nn.modules.block.C3k2            [128, 256, 1, True, 0.25]     \n",
      "  3                  -1  1    590336  ultralytics.nn.modules.conv.Conv             [256, 256, 3, 2]              \n",
      "  4                  -1  1    444928  ultralytics.nn.modules.block.C3k2            [256, 512, 1, True, 0.25]     \n",
      "  5                  -1  1   2360320  ultralytics.nn.modules.conv.Conv             [512, 512, 3, 2]              \n",
      "  6                  -1  1   1380352  ultralytics.nn.modules.block.C3k2            [512, 512, 1, True]           \n",
      "  7                  -1  1   2360320  ultralytics.nn.modules.conv.Conv             [512, 512, 3, 2]              \n",
      "  8                  -1  1   1380352  ultralytics.nn.modules.block.C3k2            [512, 512, 1, True]           \n",
      "  9                  -1  1    656896  ultralytics.nn.modules.block.SPPF            [512, 512, 5]                 \n",
      " 10                  -1  1    990976  ultralytics.nn.modules.block.C2PSA           [512, 512, 1]                 \n",
      " 11                  -1  1         0  torch.nn.modules.upsampling.Upsample         [None, 2, 'nearest']          \n",
      " 12             [-1, 6]  1         0  ultralytics.nn.modules.conv.Concat           [1]                           \n",
      " 13                  -1  1   1642496  ultralytics.nn.modules.block.C3k2            [1024, 512, 1, True]          \n",
      " 14                  -1  1         0  torch.nn.modules.upsampling.Upsample         [None, 2, 'nearest']          \n",
      " 15             [-1, 4]  1         0  ultralytics.nn.modules.conv.Concat           [1]                           \n",
      " 16                  -1  1    542720  ultralytics.nn.modules.block.C3k2            [1024, 256, 1, True]          \n",
      " 17                  -1  1    590336  ultralytics.nn.modules.conv.Conv             [256, 256, 3, 2]              \n",
      " 18            [-1, 13]  1         0  ultralytics.nn.modules.conv.Concat           [1]                           \n",
      " 19                  -1  1   1511424  ultralytics.nn.modules.block.C3k2            [768, 512, 1, True]           \n",
      " 20                  -1  1   2360320  ultralytics.nn.modules.conv.Conv             [512, 512, 3, 2]              \n",
      " 21            [-1, 10]  1         0  ultralytics.nn.modules.conv.Concat           [1]                           \n",
      " 22                  -1  1   1642496  ultralytics.nn.modules.block.C3k2            [1024, 512, 1, True]          \n",
      " 23        [16, 19, 22]  1   1414108  ultralytics.nn.modules.head.Detect           [4, [256, 512, 512]]          \n",
      "YOLO11m summary: 409 layers, 20,056,092 parameters, 20,056,076 gradients, 68.2 GFLOPs\n",
      "\n",
      "Transferred 649/649 items from pretrained weights\n",
      "\u001b[34m\u001b[1mTensorBoard: \u001b[0mStart with 'tensorboard --logdir runs/detect/train4', view at http://localhost:6006/\n",
      "Freezing layer 'model.23.dfl.conv.weight'\n",
      "\u001b[34m\u001b[1mAMP: \u001b[0mrunning Automatic Mixed Precision (AMP) checks...\n",
      "\u001b[34m\u001b[1mAMP: \u001b[0mchecks passed ✅\n",
      "WARNING ⚠️ updating to 'imgsz=640'. 'train' and 'val' imgsz must be an integer, while 'predict' and 'export' imgsz may be a [h, w] list or an integer, i.e. 'yolo export imgsz=640,480' or 'yolo export imgsz=640'\n"
     ]
    },
    {
     "name": "stderr",
     "output_type": "stream",
     "text": [
      "\u001b[34m\u001b[1mtrain: \u001b[0mScanning /opt/dataset/tmod/training/labels.cache... 6400 images, 0 backgrounds, 0 corrupt: 100%|██████████| 6400/6400 [00:00<?, ?it/s]\u001b[0m\n",
      "\u001b[34m\u001b[1mval: \u001b[0mScanning /opt/dataset/tmod/validation/labels.cache... 1600 images, 0 backgrounds, 0 corrupt: 100%|██████████| 1600/1600 [00:00<?, ?it/s]\u001b[0m\n"
     ]
    },
    {
     "name": "stdout",
     "output_type": "stream",
     "text": [
      "Plotting labels to runs/detect/train4/labels.jpg... \n",
      "\u001b[34m\u001b[1moptimizer:\u001b[0m 'optimizer=auto' found, ignoring 'lr0=0.01' and 'momentum=0.95' and determining best 'optimizer', 'lr0' and 'momentum' automatically... \n",
      "\u001b[34m\u001b[1moptimizer:\u001b[0m AdamW(lr=0.00125, momentum=0.9) with parameter groups 106 weight(decay=0.0), 113 weight(decay=0.000984375), 112 bias(decay=0.0)\n",
      "\u001b[34m\u001b[1mTensorBoard: \u001b[0mmodel graph visualization added ✅\n",
      "Image sizes 640 train, 640 val\n",
      "Using 20 dataloader workers\n",
      "Logging results to \u001b[1mruns/detect/train4\u001b[0m\n",
      "Starting training for 11 epochs...\n",
      "\n",
      "      Epoch    GPU_mem   box_loss   cls_loss   dfl_loss  Instances       Size\n"
     ]
    },
    {
     "name": "stderr",
     "output_type": "stream",
     "text": [
      "       1/11      5.45G     0.2793      0.537      1.156          1        640: 100%|██████████| 712/712 [03:47<00:00,  3.13it/s]\n",
      "                 Class     Images  Instances      Box(P          R      mAP50  mAP50-95): 100%|██████████| 89/89 [00:17<00:00,  5.10it/s]"
     ]
    },
    {
     "name": "stdout",
     "output_type": "stream",
     "text": [
      "                   all       1600       1868      0.947      0.933      0.965      0.773\n"
     ]
    },
    {
     "name": "stderr",
     "output_type": "stream",
     "text": [
      "\n"
     ]
    },
    {
     "name": "stdout",
     "output_type": "stream",
     "text": [
      "\n",
      "      Epoch    GPU_mem   box_loss   cls_loss   dfl_loss  Instances       Size\n"
     ]
    },
    {
     "name": "stderr",
     "output_type": "stream",
     "text": [
      "       2/11      5.65G     0.2642     0.4976      1.132          2        640: 100%|██████████| 712/712 [03:39<00:00,  3.24it/s]\n",
      "                 Class     Images  Instances      Box(P          R      mAP50  mAP50-95): 100%|██████████| 89/89 [00:35<00:00,  2.53it/s]"
     ]
    },
    {
     "name": "stdout",
     "output_type": "stream",
     "text": [
      "                   all       1600       1868      0.932        0.9      0.958      0.762\n"
     ]
    },
    {
     "name": "stderr",
     "output_type": "stream",
     "text": [
      "\n"
     ]
    },
    {
     "name": "stdout",
     "output_type": "stream",
     "text": [
      "\n",
      "      Epoch    GPU_mem   box_loss   cls_loss   dfl_loss  Instances       Size\n"
     ]
    },
    {
     "name": "stderr",
     "output_type": "stream",
     "text": [
      "       3/11      5.64G     0.2732     0.5192      1.143          1        640: 100%|██████████| 712/712 [12:56<00:00,  1.09s/it]\n",
      "                 Class     Images  Instances      Box(P          R      mAP50  mAP50-95): 100%|██████████| 89/89 [00:38<00:00,  2.31it/s]"
     ]
    },
    {
     "name": "stdout",
     "output_type": "stream",
     "text": [
      "                   all       1600       1868      0.942      0.923      0.956      0.757\n"
     ]
    },
    {
     "name": "stderr",
     "output_type": "stream",
     "text": [
      "\n"
     ]
    },
    {
     "name": "stdout",
     "output_type": "stream",
     "text": [
      "\n",
      "      Epoch    GPU_mem   box_loss   cls_loss   dfl_loss  Instances       Size\n"
     ]
    },
    {
     "name": "stderr",
     "output_type": "stream",
     "text": [
      "       4/11      5.58G     0.2938     0.5574      1.179          1        640: 100%|██████████| 712/712 [03:35<00:00,  3.31it/s]\n",
      "                 Class     Images  Instances      Box(P          R      mAP50  mAP50-95): 100%|██████████| 89/89 [00:33<00:00,  2.62it/s]"
     ]
    },
    {
     "name": "stdout",
     "output_type": "stream",
     "text": [
      "                   all       1600       1868      0.834      0.912       0.91      0.733\n"
     ]
    },
    {
     "name": "stderr",
     "output_type": "stream",
     "text": [
      "\n"
     ]
    },
    {
     "name": "stdout",
     "output_type": "stream",
     "text": [
      "\n",
      "      Epoch    GPU_mem   box_loss   cls_loss   dfl_loss  Instances       Size\n"
     ]
    },
    {
     "name": "stderr",
     "output_type": "stream",
     "text": [
      "       5/11      5.64G      0.286     0.5398       1.17          5        640: 100%|██████████| 712/712 [09:38<00:00,  1.23it/s]\n",
      "                 Class     Images  Instances      Box(P          R      mAP50  mAP50-95): 100%|██████████| 89/89 [00:35<00:00,  2.48it/s]"
     ]
    },
    {
     "name": "stdout",
     "output_type": "stream",
     "text": [
      "                   all       1600       1868      0.934      0.919      0.955      0.756\n"
     ]
    },
    {
     "name": "stderr",
     "output_type": "stream",
     "text": [
      "\n"
     ]
    },
    {
     "name": "stdout",
     "output_type": "stream",
     "text": [
      "\n",
      "      Epoch    GPU_mem   box_loss   cls_loss   dfl_loss  Instances       Size\n"
     ]
    },
    {
     "name": "stderr",
     "output_type": "stream",
     "text": [
      "       6/11       5.6G     0.2772     0.5126       1.15          1        640: 100%|██████████| 712/712 [09:59<00:00,  1.19it/s]\n",
      "                 Class     Images  Instances      Box(P          R      mAP50  mAP50-95): 100%|██████████| 89/89 [00:33<00:00,  2.65it/s]"
     ]
    },
    {
     "name": "stdout",
     "output_type": "stream",
     "text": [
      "                   all       1600       1868      0.898      0.954       0.96      0.761\n"
     ]
    },
    {
     "name": "stderr",
     "output_type": "stream",
     "text": [
      "\n"
     ]
    },
    {
     "name": "stdout",
     "output_type": "stream",
     "text": [
      "\n",
      "      Epoch    GPU_mem   box_loss   cls_loss   dfl_loss  Instances       Size\n"
     ]
    },
    {
     "name": "stderr",
     "output_type": "stream",
     "text": [
      "       7/11      5.65G     0.2687     0.4975      1.135          2        640: 100%|██████████| 712/712 [03:38<00:00,  3.26it/s]\n",
      "                 Class     Images  Instances      Box(P          R      mAP50  mAP50-95): 100%|██████████| 89/89 [00:35<00:00,  2.50it/s]"
     ]
    },
    {
     "name": "stdout",
     "output_type": "stream",
     "text": [
      "                   all       1600       1868      0.957      0.968      0.973      0.767\n"
     ]
    },
    {
     "name": "stderr",
     "output_type": "stream",
     "text": [
      "\n"
     ]
    },
    {
     "name": "stdout",
     "output_type": "stream",
     "text": [
      "\n",
      "      Epoch    GPU_mem   box_loss   cls_loss   dfl_loss  Instances       Size\n"
     ]
    },
    {
     "name": "stderr",
     "output_type": "stream",
     "text": [
      "       8/11      5.64G     0.2657     0.4855      1.132          2        640: 100%|██████████| 712/712 [13:45<00:00,  1.16s/it]\n",
      "                 Class     Images  Instances      Box(P          R      mAP50  mAP50-95): 100%|██████████| 89/89 [00:52<00:00,  1.71it/s]"
     ]
    },
    {
     "name": "stdout",
     "output_type": "stream",
     "text": [
      "                   all       1600       1868      0.972      0.941      0.972      0.771\n"
     ]
    },
    {
     "name": "stderr",
     "output_type": "stream",
     "text": [
      "\n"
     ]
    },
    {
     "name": "stdout",
     "output_type": "stream",
     "text": [
      "\n",
      "      Epoch    GPU_mem   box_loss   cls_loss   dfl_loss  Instances       Size\n"
     ]
    },
    {
     "name": "stderr",
     "output_type": "stream",
     "text": [
      "       9/11      5.62G     0.2584      0.475      1.125          2        640: 100%|██████████| 712/712 [06:59<00:00,  1.70it/s]\n",
      "                 Class     Images  Instances      Box(P          R      mAP50  mAP50-95): 100%|██████████| 89/89 [00:37<00:00,  2.38it/s]"
     ]
    },
    {
     "name": "stdout",
     "output_type": "stream",
     "text": [
      "                   all       1600       1868      0.967      0.914      0.965      0.767\n"
     ]
    },
    {
     "name": "stderr",
     "output_type": "stream",
     "text": [
      "\n"
     ]
    },
    {
     "name": "stdout",
     "output_type": "stream",
     "text": [
      "\n",
      "      Epoch    GPU_mem   box_loss   cls_loss   dfl_loss  Instances       Size\n"
     ]
    },
    {
     "name": "stderr",
     "output_type": "stream",
     "text": [
      "      10/11      5.64G     0.2554     0.4711      1.117          1        640: 100%|██████████| 712/712 [08:36<00:00,  1.38it/s]\n",
      "                 Class     Images  Instances      Box(P          R      mAP50  mAP50-95): 100%|██████████| 89/89 [00:36<00:00,  2.47it/s]"
     ]
    },
    {
     "name": "stdout",
     "output_type": "stream",
     "text": [
      "                   all       1600       1868      0.949      0.945      0.967      0.769\n"
     ]
    },
    {
     "name": "stderr",
     "output_type": "stream",
     "text": [
      "\n"
     ]
    },
    {
     "name": "stdout",
     "output_type": "stream",
     "text": [
      "\n",
      "      Epoch    GPU_mem   box_loss   cls_loss   dfl_loss  Instances       Size\n"
     ]
    },
    {
     "name": "stderr",
     "output_type": "stream",
     "text": [
      "      11/11      5.58G     0.2567     0.4662      1.121          3        640: 100%|██████████| 712/712 [03:39<00:00,  3.24it/s]\n",
      "                 Class     Images  Instances      Box(P          R      mAP50  mAP50-95): 100%|██████████| 89/89 [00:48<00:00,  1.85it/s]"
     ]
    },
    {
     "name": "stdout",
     "output_type": "stream",
     "text": [
      "                   all       1600       1868      0.929      0.965      0.966      0.774\n"
     ]
    },
    {
     "name": "stderr",
     "output_type": "stream",
     "text": [
      "\n"
     ]
    },
    {
     "name": "stdout",
     "output_type": "stream",
     "text": [
      "\n",
      "11 epochs completed in 1.456 hours.\n",
      "Optimizer stripped from runs/detect/train4/weights/last.pt, 40.5MB\n",
      "Optimizer stripped from runs/detect/train4/weights/best.pt, 40.5MB\n",
      "\n",
      "Validating runs/detect/train4/weights/best.pt...\n",
      "Ultralytics 8.3.72 🚀 Python-3.12.8 torch-2.5.1 CUDA:0 (NVIDIA GeForce RTX 4050 Laptop GPU, 6140MiB)\n",
      "YOLO11m summary (fused): 303 layers, 20,033,116 parameters, 0 gradients, 67.7 GFLOPs\n"
     ]
    },
    {
     "name": "stderr",
     "output_type": "stream",
     "text": [
      "                 Class     Images  Instances      Box(P          R      mAP50  mAP50-95): 100%|██████████| 89/89 [00:21<00:00,  4.21it/s]\n"
     ]
    },
    {
     "name": "stdout",
     "output_type": "stream",
     "text": [
      "                   all       1600       1868      0.929      0.965      0.966      0.774\n",
      "Speed: 0.2ms preprocess, 9.3ms inference, 0.0ms loss, 0.8ms postprocess per image\n",
      "Results saved to \u001b[1mruns/detect/train4\u001b[0m\n"
     ]
    },
    {
     "data": {
      "text/html": [],
      "text/plain": [
       "<IPython.core.display.HTML object>"
      ]
     },
     "metadata": {},
     "output_type": "display_data"
    }
   ],
   "source": [
    "if not IS_TO_RESUME:\n",
    "    generateSeed()\n",
    "\n",
    "for idx in range(\n",
    "    NUMBER_OF_TIMES_TO_ITERATE_TRAINING\n",
    "):\n",
    "    training_results =                          \\\n",
    "        model.train(\n",
    "            data         = DATASET_LOCATION, \n",
    "\n",
    "            batch        = int(\n",
    "                environ['TRAINING_BATCHES']\n",
    "            ), \n",
    "            epochs       = int(\n",
    "                environ['TRAINING_EPOCH']\n",
    "            ),\n",
    "            cos_lr       = True,\n",
    "            box          = 3.0,\n",
    "            iou          = calculateIOU(),\n",
    "            dropout      = 0.075,\n",
    "            patience     = PATIENCE,\n",
    "            \n",
    "            lrf          = 0.01,\n",
    "            conf         = 0.001,\n",
    "            weight_decay = 0.001,\n",
    "\n",
    "            auto_augment = 'randaugment',\n",
    "            bgr          = 0.05,\n",
    "            hsv_h        = 0.15,\n",
    "            hsv_s        = 0.15,\n",
    "            hsv_v        = 0.15,\n",
    "\n",
    "            translate    = 0.05,\n",
    "            scale        = 0.05,\n",
    "            mixup        = 0.40,\n",
    "            momentum     = 0.95,\n",
    "            mosaic       = 0.40,\n",
    "            \n",
    "            close_mosaic  = MOSAIC_END_AT,\n",
    "            \n",
    "            imgsz         = IMAGE_DIMENSIONS,\n",
    "            multi_scale   = False,\n",
    "            resume        = IS_TO_RESUME,\n",
    "            seed          = getSeed(),\n",
    "            workers       = getTrainingWorkers(),\n",
    "            stream_buffer = True,\n",
    "            device        = DEVICES_TO_USE,\n",
    "            \n",
    "            save          = True,\n",
    "\n",
    "            plots         = True,\n",
    "            show          = False,\n",
    "            verbose       = False\n",
    "    )\n",
    "    \n",
    "    if NUMBER_OF_TIMES_TO_ITERATE_TRAINING > ONE:\n",
    "        increment_of_model()\n",
    "\n",
    "    if not (\n",
    "        int( \n",
    "            NUMBER_OF_TIMES_TO_ITERATE_TRAINING \n",
    "            - \n",
    "            ONE\n",
    "        )\n",
    "        == \n",
    "        idx\n",
    "    ):\n",
    "        modelLoadWeights()\n"
   ]
  },
  {
   "cell_type": "code",
   "execution_count": 13,
   "id": "b44a425d",
   "metadata": {},
   "outputs": [],
   "source": [
    "if FINISH_WHEN_DONE:\n",
    "    finish()"
   ]
  }
 ],
 "metadata": {
  "kernelspec": {
   "display_name": "Python 3 (ipykernel)",
   "language": "python",
   "name": "python3"
  }
 },
 "nbformat": 4,
 "nbformat_minor": 5
}
