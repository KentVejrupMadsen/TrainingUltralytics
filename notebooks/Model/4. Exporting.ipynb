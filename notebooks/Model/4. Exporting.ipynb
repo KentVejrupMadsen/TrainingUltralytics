{
 "cells": [
  {
   "cell_type": "code",
   "execution_count": 1,
   "id": "d455153e",
   "metadata": {},
   "outputs": [],
   "source": [
    "INSTALL_ON_START: bool = False\n",
    "\n",
    "if INSTALL_ON_START:\n",
    "    %pip install wandb\n",
    "    %pip install ultralytics\n",
    "    %pip install matplotlib\n",
    "    %pip install numpy\n",
    "    %pip install opencv-python\n",
    "    %pip install inference\n",
    "    %pip install onnxruntime-gpu"
   ]
  },
  {
   "cell_type": "code",
   "execution_count": 2,
   "id": "b1bbc0fa",
   "metadata": {},
   "outputs": [],
   "source": [
    "from ultralytics import YOLO\n",
    "\n",
    "from os import mkdir\n",
    "from os.path import join, isfile\n",
    "from shutil import move"
   ]
  },
  {
   "cell_type": "code",
   "execution_count": 3,
   "id": "d9b7e704",
   "metadata": {},
   "outputs": [],
   "source": [
    "LOCATION_OF_MODEL: str = '/media'\n",
    "\n",
    "LOCATION_OF_PT_MODEL: str = join(\n",
    "    LOCATION_OF_MODEL, \n",
    "    'model.pt'\n",
    ")\n",
    "\n",
    "LOCATION_OF_ONNX_MODEL: str = join(\n",
    "    LOCATION_OF_MODEL, \n",
    "    'model.onnx'\n",
    ")\n",
    "\n",
    "TARGET_WIDTH: int = 640\n",
    "TARGET_HEIGHT: int = 640\n",
    "\n",
    "TARGET_SIZE_DIMENSION: tuple = (\n",
    "    TARGET_HEIGHT, \n",
    "    TARGET_WIDTH\n",
    ")\n",
    "\n",
    "MODEL_FORMAT_TO: str = 'onnx'\n",
    "SIMPLIFY: bool = True\n",
    "DEVICES = 0\n",
    "\n",
    "HALF: bool = False"
   ]
  },
  {
   "cell_type": "code",
   "execution_count": 4,
   "id": "bd07b4ed",
   "metadata": {},
   "outputs": [],
   "source": [
    "if( \n",
    "    DEVICES is str \n",
    "    and\n",
    "    (\n",
    "        DEVICES.isdigit() \n",
    "        and \n",
    "        (\n",
    "            DEVICES \n",
    "            >= \n",
    "            0\n",
    "        )\n",
    "    ) \n",
    "    or \n",
    "    (\n",
    "        DEVICES is list\n",
    "    )\n",
    "):\n",
    "    HALF: bool = True\n"
   ]
  },
  {
   "cell_type": "code",
   "execution_count": 5,
   "id": "e9eecfe4",
   "metadata": {},
   "outputs": [
    {
     "name": "stdout",
     "output_type": "stream",
     "text": [
      "Ultralytics 8.3.72 🚀 Python-3.12.8 torch-2.5.1 CUDA:0 (NVIDIA GeForce RTX 4050 Laptop GPU, 6140MiB)\n",
      "YOLO11m summary (fused): 303 layers, 20,033,116 parameters, 0 gradients, 67.7 GFLOPs\n",
      "\n",
      "\u001b[34m\u001b[1mPyTorch:\u001b[0m starting from '/media/model.pt' with input shape (1, 3, 640, 640) BCHW and output shape(s) (1, 8, 8400) (38.6 MB)\n",
      "\n",
      "\u001b[34m\u001b[1mONNX:\u001b[0m starting export with onnx 1.17.0 opset 19...\n",
      "\u001b[34m\u001b[1mONNX:\u001b[0m slimming with onnxslim 0.1.48...\n",
      "\u001b[34m\u001b[1mONNX:\u001b[0m export success ✅ 1.6s, saved as '/media/model.onnx' (76.7 MB)\n",
      "\n",
      "Export complete (3.3s)\n",
      "Results saved to \u001b[1m/media\u001b[0m\n",
      "Predict:         yolo predict task=detect model=/media/model.onnx imgsz=640  \n",
      "Validate:        yolo val task=detect model=/media/model.onnx imgsz=640 data=/home/ai/dataset.yaml  \n",
      "Visualize:       https://netron.app\n"
     ]
    }
   ],
   "source": [
    "if not isfile(\n",
    "    LOCATION_OF_PT_MODEL\n",
    "):\n",
    "    raise Exception(\n",
    "        ''\n",
    "    )\n",
    "\n",
    "model = YOLO(\n",
    "    LOCATION_OF_PT_MODEL\n",
    ")\n",
    "\n",
    "path_to_saved_model = model.export(\n",
    "    format   = MODEL_FORMAT_TO, \n",
    "    half     = HALF,\n",
    "    simplify = SIMPLIFY,\n",
    "    imgsz    = TARGET_SIZE_DIMENSION,\n",
    "    device   = DEVICES\n",
    ")\n",
    "\n",
    "if not (\n",
    "    LOCATION_OF_MODEL == path_to_saved_model\n",
    "):\n",
    "    move(\n",
    "        path_to_saved_model, \n",
    "        LOCATION_OF_ONNX_MODEL\n",
    "    )"
   ]
  },
  {
   "cell_type": "code",
   "execution_count": null,
   "id": "40e2ecba",
   "metadata": {},
   "outputs": [],
   "source": [
    "model = YOLO(\n",
    "    LOCATION_OF_ONNX_MODEL,\n",
    "    task='detect'\n",
    ")"
   ]
  },
  {
   "cell_type": "code",
   "execution_count": null,
   "id": "723227b5",
   "metadata": {},
   "outputs": [],
   "source": [
    "DELETE: bool = True"
   ]
  },
  {
   "cell_type": "code",
   "execution_count": null,
   "id": "080d39c9",
   "metadata": {},
   "outputs": [],
   "source": [
    "from os import remove\n",
    "\n",
    "if DELETE:\n",
    "    remove(\n",
    "        LOCATION_OF_PT_MODEL\n",
    "    )\n",
    "\n",
    "    remove(\n",
    "        LOCATION_OF_ONNX_MODEL\n",
    "    )\n"
   ]
  }
 ],
 "metadata": {
  "kernelspec": {
   "display_name": "Python 3 (ipykernel)",
   "language": "python",
   "name": "python3"
  },
  "language_info": {
   "codemirror_mode": {
    "name": "ipython",
    "version": 3
   },
   "file_extension": ".py",
   "mimetype": "text/x-python",
   "name": "python",
   "nbconvert_exporter": "python",
   "pygments_lexer": "ipython3",
   "version": "3.12.8"
  }
 },
 "nbformat": 4,
 "nbformat_minor": 5
}
