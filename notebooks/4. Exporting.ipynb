{
 "cells": [
  {
   "cell_type": "code",
   "execution_count": null,
   "id": "d455153e",
   "metadata": {},
   "outputs": [],
   "source": [
    "INSTALL_ON_START: bool = True\n",
    "\n",
    "if INSTALL_ON_START:\n",
    "    %pip install wandb -qqq\n",
    "    \n",
    "    %pip install ultralytics -qqq\n",
    "    %pip install matplotlib -qqq\n",
    "    \n",
    "    %pip install numpy -qqq\n",
    "    %pip install opencv-python -qqq\n",
    "\n",
    "    %pip install inference -qqq"
   ]
  }
 ],
 "metadata": {
  "kernelspec": {
   "display_name": "Python 3 (ipykernel)",
   "language": "python",
   "name": "python3"
  },
  "language_info": {
   "codemirror_mode": {
    "name": "ipython",
    "version": 3
   },
   "file_extension": ".py",
   "mimetype": "text/x-python",
   "name": "python",
   "nbconvert_exporter": "python",
   "pygments_lexer": "ipython3",
   "version": "3.12.8"
  }
 },
 "nbformat": 4,
 "nbformat_minor": 5
}
