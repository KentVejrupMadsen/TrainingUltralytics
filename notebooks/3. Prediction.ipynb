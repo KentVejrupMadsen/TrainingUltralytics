{
 "cells": [
  {
   "cell_type": "code",
   "execution_count": null,
   "id": "d455153e",
   "metadata": {},
   "outputs": [],
   "source": [
    "INSTALL_ON_START: bool = True\n",
    "\n",
    "if INSTALL_ON_START:\n",
    "    %pip install wandb -qqq\n",
    "    \n",
    "    %pip install ultralytics -qqq\n",
    "    %pip install matplotlib -qqq\n",
    "    \n",
    "    %pip install numpy -qqq\n",
    "    %pip install opencv-python -qqq\n",
    "\n",
    "    %pip install inference -qqq\n",
    "    %pip install requests -qqq"
   ]
  }
 ],
 "metadata": {
  "kernelspec": {
   "display_name": "Python 3 (ipykernel)",
   "language": "python",
   "name": "python3"
  }
 },
 "nbformat": 4,
 "nbformat_minor": 5
}
